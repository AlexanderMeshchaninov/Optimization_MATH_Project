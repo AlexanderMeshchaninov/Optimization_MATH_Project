{
  "cells": [
    {
      "cell_type": "markdown",
      "metadata": {
        "id": "NyHIGVhfa_Wf"
      },
      "source": [
        "# Стохастический градиентный и координатный спуски"
      ]
    },
    {
      "cell_type": "markdown",
      "metadata": {
        "id": "gn6lluIADUKa"
      },
      "source": [
        "Для каждого задания указано количество баллов (если они оцениваются отдельно) + 1 балл за аккуратное и полное выполнение всего задания"
      ]
    },
    {
      "cell_type": "markdown",
      "metadata": {
        "id": "txCccYvha_Wv"
      },
      "source": [
        "## Загрузка и подготовка данных"
      ]
    },
    {
      "cell_type": "code",
      "execution_count": 1,
      "metadata": {},
      "outputs": [],
      "source": [
        "import numpy as np\n",
        "import pandas as pd\n",
        "import seaborn as sns\n",
        "import matplotlib.pyplot as plt\n",
        "from sklearn.preprocessing import Normalizer, StandardScaler\n",
        "from sklearn.metrics import mean_absolute_error, mean_squared_error"
      ]
    },
    {
      "cell_type": "markdown",
      "metadata": {
        "id": "NbyOzeZ6a_Wx"
      },
      "source": [
        "**Загрузите уже знакомый вам файл *Advertising.csv* как объект DataFrame.** "
      ]
    },
    {
      "cell_type": "code",
      "execution_count": 2,
      "metadata": {
        "id": "E1L4_xeDa_Wz"
      },
      "outputs": [
        {
          "name": "stdout",
          "output_type": "stream",
          "text": [
            "      TV  radio  newspaper  sales\n",
            "1  230.1   37.8       69.2   22.1\n",
            "2   44.5   39.3       45.1   10.4\n",
            "3   17.2   45.9       69.3    9.3\n",
            "4  151.5   41.3       58.5   18.5\n",
            "5  180.8   10.8       58.4   12.9\n",
            "\n",
            "<class 'pandas.core.frame.DataFrame'>\n",
            "Index: 200 entries, 1 to 200\n",
            "Data columns (total 4 columns):\n",
            " #   Column     Non-Null Count  Dtype  \n",
            "---  ------     --------------  -----  \n",
            " 0   TV         200 non-null    float64\n",
            " 1   radio      200 non-null    float64\n",
            " 2   newspaper  200 non-null    float64\n",
            " 3   sales      200 non-null    float64\n",
            "dtypes: float64(4)\n",
            "memory usage: 7.8 KB\n",
            "None\n"
          ]
        }
      ],
      "source": [
        "# Читаем CSV-файл и указываем, что первый столбец нужно использовать как индекс (index_col=0)\n",
        "df = pd.read_csv('Data/Advertising 2.csv', index_col=0)\n",
        "\n",
        "# Выводим первые 5 строк датафрейма\n",
        "print(df.head(5))\n",
        "print()\n",
        "# Выводим общую информацию о датафрейме\n",
        "print(df.info())"
      ]
    },
    {
      "cell_type": "markdown",
      "metadata": {},
      "source": [
        "# Признаки:\n",
        "\n",
        "Реклама размещенная в разных источниках\n",
        "\n",
        "- TV - продажи на телевидении\n",
        "- radio - продажи на радио\n",
        "- newspaper - продажи в газете\n",
        "- sales - целевой признак"
      ]
    },
    {
      "cell_type": "markdown",
      "metadata": {
        "id": "bf4aVFndDUKf"
      },
      "source": [
        "**Проверьте, есть ли в данных пропуски и, если они есть - удалите их**"
      ]
    },
    {
      "cell_type": "code",
      "execution_count": 3,
      "metadata": {
        "id": "tiVeFnR5DUKg"
      },
      "outputs": [
        {
          "name": "stdout",
          "output_type": "stream",
          "text": [
            "Количество пропусков в данных: 0\n",
            "\n",
            "Количество дубликатов в данных: 0\n"
          ]
        }
      ],
      "source": [
        "print(f'Количество пропусков в данных: {df.isnull().sum().sum()}\\n')\n",
        "print(f'Количество дубликатов в данных: {df.duplicated().sum()}')"
      ]
    },
    {
      "cell_type": "markdown",
      "metadata": {},
      "source": [
        "Дополнительно решил добаить матрицу корреляций для того, чтобы убедиться, что все признаки подходят."
      ]
    },
    {
      "cell_type": "code",
      "execution_count": 4,
      "metadata": {},
      "outputs": [
        {
          "data": {
            "text/plain": [
              "<Axes: >"
            ]
          },
          "metadata": {},
          "output_type": "display_data"
        },
        {
          "data": {
            "image/png": "[encoded data removed]",
            "text/plain": [
              "<Figure size 640x480 with 2 Axes>"
            ]
          },
          "metadata": {},
          "output_type": "display_data"
        }
      ],
      "source": [
        "# Чтобы было удобнее ее интерпретировать, передадим параметр annot = True, чтобы отобразить коэффициент корреляции на пересечении признаков.\n",
        "heatmap_data = sns.heatmap(data=df.corr(numeric_only=True), annot=True)\n",
        "display(heatmap_data)"
      ]
    },
    {
      "cell_type": "markdown",
      "metadata": {},
      "source": [
        "# Вывод:\n",
        "В данных отсутствуют дубликаты и пропуски. Все признаки являются числовыми и представлены в формате чисел с плавающей точкой (float64). Целевой переменной является признак sales.\n",
        "\n",
        "Поскольку в данных нет категориальных признаков кодирование не требуется, однако данные стоит привести к общему виду (нормализация) для последующей обработи, что будет сделано далее.\n",
        "\n",
        "TV — ключевой фактор, влияющий на продажи, так как корреляция с sales наиболее высокая (0.78).\n",
        "Radio также оказывает влияние, но не столь значительное, как TV (0.58).\n",
        "Newspaper почти не влияет на продажи (0.23), возможно, реклама в газетах менее эффективна. В целом все факторы подходят для задачи."
      ]
    },
    {
      "cell_type": "markdown",
      "metadata": {
        "id": "rTkiqPr_DUKh"
      },
      "source": [
        "**Преобразуйте ваши признаки в массивы NumPy и разделите их на переменные X (предикторы) и y(целевая переменная)*"
      ]
    },
    {
      "cell_type": "code",
      "execution_count": 5,
      "metadata": {
        "id": "R9OHIRB3a_Xa"
      },
      "outputs": [
        {
          "name": "stdout",
          "output_type": "stream",
          "text": [
            "X: [[230.1  37.8  69.2]\n",
            " [ 44.5  39.3  45.1]\n",
            " [ 17.2  45.9  69.3]\n",
            " [151.5  41.3  58.5]\n",
            " [180.8  10.8  58.4]\n",
            " [  8.7  48.9  75. ]\n",
            " [ 57.5  32.8  23.5]\n",
            " [120.2  19.6  11.6]\n",
            " [  8.6   2.1   1. ]\n",
            " [199.8   2.6  21.2]]\n",
            "\n",
            "y: [22.1 10.4  9.3 18.5 12.9  7.2 11.8 13.2  4.8 10.6]\n"
          ]
        }
      ],
      "source": [
        "# Преобразуем предикторы (все столбцы, кроме sales) в массив NumPy\n",
        "X = np.array(df.drop(['sales'], axis=1))\n",
        "# Преобразуем целевую переменную sales в массив NumPy\n",
        "y = np.array(df['sales'])\n",
        "\n",
        "# Выводим первые 10\n",
        "print(f'X: {X[:10]}\\n')\n",
        "print(f'y: {y[:10]}')"
      ]
    },
    {
      "cell_type": "markdown",
      "metadata": {
        "id": "KCvjSoHEDUKo"
      },
      "source": [
        "## Координатный спуск (3 балла)"
      ]
    },
    {
      "cell_type": "markdown",
      "metadata": {
        "id": "yjNm8dATDUKq"
      },
      "source": [
        "**Добавим единичный столбец для того, чтобы у нас был свободный коэффициент в уравнении регрессии:**"
      ]
    },
    {
      "cell_type": "code",
      "execution_count": 6,
      "metadata": {
        "id": "LMgq0fmKDUKr"
      },
      "outputs": [
        {
          "name": "stdout",
          "output_type": "stream",
          "text": [
            "(200, 4) (200, 1)\n"
          ]
        }
      ],
      "source": [
        "# Добавляем столбец из единиц в начало матрицы X для учета свободного коэффициента в линейной регрессии\n",
        "X = np.hstack([np.ones(X.shape[0]).reshape(-1, 1), X])\n",
        "# Преобразуем y в двумерный массив, что необходимо для корректных вычислений в линейной алгебре\n",
        "y = y.reshape(-1, 1)\n",
        "\n",
        "# Выводим размеры матриц X и y\n",
        "print(X.shape, y.shape)"
      ]
    },
    {
      "cell_type": "markdown",
      "metadata": {
        "id": "R008OQwcDUKt"
      },
      "source": [
        "**Нормализуем данные: обычно это необходимо для корректной работы алгоритма** \n",
        "\n",
        "Решил нормализовать L-2 с помощью стандартной библиотеки, т.к. это более очевидно для проекта. L-2 сохраняет соотношение между признаками, не искажает их значения."
      ]
    },
    {
      "cell_type": "code",
      "execution_count": 7,
      "metadata": {
        "id": "2Sk7Wx-SDUKt"
      },
      "outputs": [
        {
          "name": "stdout",
          "output_type": "stream",
          "text": [
            "X_normalized: [[0.00411121 0.94598893 0.15540366 0.28449559]\n",
            " [0.01341135 0.5968049  0.5270659  0.60485171]\n",
            " [0.01178009 0.20261757 0.54070619 0.81636032]\n",
            " [0.0059675  0.90407587 0.24645765 0.3490986 ]\n",
            " [0.00525466 0.95004275 0.05675034 0.30687222]\n",
            " [0.01111598 0.09670906 0.54357162 0.8336988 ]\n",
            " [0.01423448 0.81848233 0.46689079 0.33451017]\n",
            " [0.00817375 0.9824853  0.16020559 0.09481555]\n",
            " [0.11154575 0.95929342 0.23424607 0.11154575]\n",
            " [0.00497659 0.99432228 0.01293913 0.10550366]]\n"
          ]
        }
      ],
      "source": [
        "# X = X / np.sqrt(np.sum(np.square(X), axis=0))\n",
        "\n",
        "normalizer = Normalizer(norm='l2')\n",
        "X_normalized = normalizer.fit_transform(X)\n",
        "print(f'X_normalized: {X_normalized[:10]}')"
      ]
    },
    {
      "cell_type": "markdown",
      "metadata": {
        "id": "F_pHHbAdDUKu"
      },
      "source": [
        "**Реализуйте алгоритм координатного спуска:** (3 балла)\n",
        "\n",
        "Ниже приведен алгоритм координатного спуска для случая нормализованных данных:"
      ]
    },
    {
      "cell_type": "markdown",
      "metadata": {},
      "source": [
        "**Задано:**\n",
        "\n",
        "* $X=(x_{ij})$ - матрица наблюдений, размерностью $dim(X)=(m, n)$\n",
        "* $N=1000$ - количество итераций\n",
        "\n",
        "**Примечание:** *1000 итераций здесь указаны для этого задания, на самом деле их может быть намного больше, нет детерменированного значения.*\n",
        "\n",
        "**Алгоритм (математическая запись):**\n",
        "* Создать нулевой вектор параметров $w_0=(0, 0,..., 0)^T$\n",
        "* Для всех $t=1, 2, ..., N$ итераций:\n",
        "    * Для всех $k = 1, 2,..., n$:\n",
        "        * Фиксируем значение всех признаков, кроме $k$-ого и вычисляем прогноз модели линейной регрессии. Для этого исключаем признак $k$-ый из данных и $w_j$ из параметров при построении прогноза.\n",
        "        Математически это можно записать следующим образом:\n",
        "\n",
        "        $$h_i = \\sum_{j=1}^{k-1} x_{ij}w_{j} + \\sum_{j=k+1}^{n} x_{ij}w_j $$\n",
        "\n",
        "        **Примечание:**\n",
        "        \n",
        "        *Обратите, что в данной записи текущий признак под номером $k$ не участвует в сумме. Сравните эту запись с классической записью прогноза линейной регрессии в случае нормированных данных (когда участвуют все признаки):*\n",
        "\n",
        "        $$h_i = \\sum_{j=1}^{n} x_{ij}w_{j}$$ \n",
        "        \n",
        "        * Вычисляем новое значение параметра $k$-ого коэффициента: \n",
        "        $$w_k = \\sum_{i=1}^{m} x_{ik} (y_i - h_i) = x_k^T(y-h) $$\n",
        "\n",
        "    * Вычисляем значение функции потерь и сохраняем в историю изменения функции потерь (В оценке функции потерь участвуют все признаки):\n",
        "        $$\\hat{y_i} = \\sum_{j=1}^{n}x_{ij}w_j$$\n",
        "        $$Loss_t = \\frac{1}{n} \\sum_{i=1}^{m}(y_i-\\hat{y_i})^2$$\n",
        "        \n",
        "        или в векторном виде:\n",
        "        \n",
        "        $$\\hat{y} = Xw$$\n",
        "        $$Loss_t = \\frac{1}{n}(y-\\hat{y})^T(y-\\hat{y})$$\n"
      ]
    },
    {
      "cell_type": "markdown",
      "metadata": {},
      "source": [
        "**Алгоритм (псевдокод):**\n",
        "```python\n",
        "\n",
        "num_iters = #количество итераций\n",
        "m = # количество строк в матрице X\n",
        "n = # количество столбцов в матрице X\n",
        "w = #вектор размера nx1, состояющий из нулей\n",
        "\n",
        "for i in range(num_iters):\n",
        "    for k in range(n):\n",
        "        # Вычисляем прогноз без k-ого фактора\n",
        "        h = (X[:,0:k] @ w[0:k]) + (X[:,k+1:] @ w[k+1:])\n",
        "        # Обновляем новое значение k-ого коэффициента\n",
        "        w[k] =  (X[:,k].T @ (y - h))\n",
        "        # Вычисляем функцию потерь\n",
        "        cost = sum((X @ w) - y) ** 2)/(len(y))\n",
        "\n",
        "```"
      ]
    },
    {
      "cell_type": "markdown",
      "metadata": {
        "id": "y3IdiHm9DUKv"
      },
      "source": [
        "Вам необходимо реализовать координатный спуск, и вывести веса в модели линейной регрессии."
      ]
    },
    {
      "cell_type": "code",
      "execution_count": 8,
      "metadata": {},
      "outputs": [
        {
          "name": "stdout",
          "output_type": "stream",
          "text": [
            "Вектор w:\n",
            " [[-229.8391806 ]\n",
            " [  15.86104213]\n",
            " [  10.57379838]\n",
            " [   1.48371979]]\n",
            "\n",
            "Функция потерь (MSE): 13.868\n"
          ]
        }
      ],
      "source": [
        "# Функция координатного спуска для линейной регрессии\n",
        "def coordinate_descent(X, y, N=1000, tol=0.0001, is_tol=False):\n",
        "    \"\"\"Координатный спуск для линейной регрессии\n",
        "\n",
        "    Args:\n",
        "        X (ndarray): матрица налюдений\n",
        "        y (ndarray): вектор истинных значений\n",
        "        N (int, optional): Количество итерраций. По-умолчанию - 1000\n",
        "        tol (float): Порог меньше которого прекращается итерации. По-умолчанию 0.0001\n",
        "        is_tol (bool): Включает / выключает функцию остановки алгоритма. По-умолчанию - False\n",
        "        \n",
        "    Returns:\n",
        "        кортеж: вектор ответов, значения функции потерь (MSE)\n",
        "    \"\"\"\n",
        "    _, n = X.shape  # Количество объектов и признаков (матрица размерностью m, n)\n",
        "    w = np.zeros((n, 1))  # Создаем нулевой вектор параметров размерность nx1\n",
        "    \n",
        "    loss_history = []  # Список для хранения значений функции потерь\n",
        "    \n",
        "    for t in range(N):  # Итерации координатного спуска\n",
        "        for k in range(n):  # Проходим по каждому признаку\n",
        "            \n",
        "            # Вычисляем прогноз h без учета k-го признака X[:, k]\n",
        "            h = X @ w # Обычное предсказание\n",
        "            h -= X[:, k].reshape(-1, 1) * w[k] # Убираем влияние k-го признака\n",
        "            \n",
        "            # Здесь решено добавить проверку на деление на 0\n",
        "            denom = X[:, k].T @ X[:, k]\n",
        "            \n",
        "            if denom != 0:\n",
        "                # Обновляем k-ый коэффициент w_k\n",
        "                w[k] = (X[:, k].T @ (y - h)) / denom\n",
        "        \n",
        "        # Вычисляем прогноз по всей модели\n",
        "        y_pred = X @ w\n",
        "        \n",
        "        # Вычисляем функцию потерь (MSE)\n",
        "        mse = np.mean((y - y_pred)**2)\n",
        "        loss_history.append(mse)\n",
        "        \n",
        "        # Критерий остановки: если изменение функции потерь меньше tol\n",
        "        if is_tol and t > 1 and abs(loss_history[-1] - loss_history[-2]) < tol:\n",
        "            print(f'Алгоритм остановлен на итерации {t}, так как изменение функции потерь < {tol}')\n",
        "            break\n",
        "            \n",
        "    return w, loss_history\n",
        "\n",
        "# Инициируем функцию\n",
        "coord_final_weights, coord_loss_history = coordinate_descent(X_normalized, y, N=1000)\n",
        "\n",
        "# Выводим результаты\n",
        "print(f'Вектор w:\\n {coord_final_weights}\\n')\n",
        "print(f'Функция потерь (MSE): {round(coord_loss_history[-1], 3)}')"
      ]
    },
    {
      "cell_type": "markdown",
      "metadata": {
        "id": "a3jG-7UADUKx"
      },
      "source": [
        "Сравните результаты с реализацией линейной регрессии из библиотеки sklearn:"
      ]
    },
    {
      "cell_type": "code",
      "execution_count": 9,
      "metadata": {
        "id": "SBl-1Yb5DUKy"
      },
      "outputs": [
        {
          "name": "stdout",
          "output_type": "stream",
          "text": [
            "[[-229.8391806    15.86104213   10.57379838    1.48371979]]\n"
          ]
        }
      ],
      "source": [
        "from sklearn.linear_model import LinearRegression\n",
        " \n",
        "model = LinearRegression(fit_intercept=False)\n",
        "model.fit(X_normalized, y)\n",
        "\n",
        "print(model.coef_)"
      ]
    },
    {
      "cell_type": "markdown",
      "metadata": {
        "id": "hIl0AGLyDUKy"
      },
      "source": [
        "Если вы все сделали верно, они должны практически совпасть!"
      ]
    },
    {
      "cell_type": "markdown",
      "metadata": {
        "id": "VCGwFnPdDUKz"
      },
      "source": [
        "## Стохастический градиентный спуск (6 баллов)"
      ]
    },
    {
      "cell_type": "markdown",
      "metadata": {
        "id": "5u7Q2YJla_Xk"
      },
      "source": [
        "**Отмасштабируйте столбцы исходной матрицы *X* (которую мы не нормализовали еще!). Для того, чтобы это сделать, надо вычесть из каждого значения среднее и разделить на стандартное отклонение** (0.5 баллов)"
      ]
    },
    {
      "cell_type": "code",
      "execution_count": 10,
      "metadata": {},
      "outputs": [
        {
          "name": "stdout",
          "output_type": "stream",
          "text": [
            "-2.7200464103316335e-17\n",
            "0.8660254037844386\n"
          ]
        }
      ],
      "source": [
        "# # Первый вариант (по заданию)\n",
        "# X = X.apply(lambda x: (x - x.mean()) / x.std())\n",
        "\n",
        "# print(X.mean())  # Cреднее должно быть около 0\n",
        "# print(X.std())   # Стандартное отклонения должно быть около 1\n",
        "\n",
        "# Я бы предпочел использоваться StandardScaler, т.к. он более явно указывает, что мы делаем с данными.\n",
        "\n",
        "scaler = StandardScaler()\n",
        "X_scaled = scaler.fit_transform(X)\n",
        "\n",
        "print(X_scaled.mean())  # Cреднее должно быть около 0\n",
        "print(X_scaled.std())   # Стандартное отклонения должно быть около 1"
      ]
    },
    {
      "cell_type": "markdown",
      "metadata": {
        "id": "8WkNYILHDUK1"
      },
      "source": [
        "**Добавим единичный столбец**"
      ]
    },
    {
      "cell_type": "code",
      "execution_count": 11,
      "metadata": {
        "id": "EVl5tEGtDUK1"
      },
      "outputs": [
        {
          "name": "stdout",
          "output_type": "stream",
          "text": [
            "(200, 5) (200, 1)\n"
          ]
        }
      ],
      "source": [
        "X_scaled = np.hstack([np.ones(X_scaled.shape[0]).reshape(-1, 1), X_scaled])\n",
        "\n",
        "# Выводим размеры матриц X и y\n",
        "print(X_scaled.shape, y.shape)"
      ]
    },
    {
      "cell_type": "markdown",
      "metadata": {
        "id": "m53tZA5fDUK1"
      },
      "source": [
        "**Создайте функцию mse_error для вычисления среднеквадратичной ошибки, принимающую два аргумента: реальные значения и предсказывающие, и возвращающую значение mse** (0.5 балла)"
      ]
    },
    {
      "cell_type": "code",
      "execution_count": 12,
      "metadata": {
        "id": "0cvtC08Aa_YK"
      },
      "outputs": [],
      "source": [
        "# Функуция MSE error (вычисление среднеквадратичной ошибки)\n",
        "def mse_error(y, y_pred):\n",
        "    # Вычисляем среднеквадратичную ошибку (MSE)\n",
        "    mse = np.mean((y - y_pred) ** 2)  # (1/m) * sum((y_i - y_pred_i)^2)\n",
        "    return mse  # Возвращаем вычисленное значение MSE"
      ]
    },
    {
      "cell_type": "markdown",
      "metadata": {
        "id": "lpOLhdvBDUK2"
      },
      "source": [
        "**Сделайте наивный прогноз: предскажите продажи средним значением. После этого рассчитайте среднеквадратичную ошибку для этого прогноза** (0.5 балла)"
      ]
    },
    {
      "cell_type": "code",
      "execution_count": 13,
      "metadata": {
        "id": "kLV_XljVa_YZ"
      },
      "outputs": [
        {
          "name": "stdout",
          "output_type": "stream",
          "text": [
            "Среднее значение продаж: 14.0225\n",
            "Значение MSE (наивный прогноз): 27.086\n"
          ]
        }
      ],
      "source": [
        "# Вычисляем среднее значение продаж\n",
        "y_mean = y.mean()\n",
        "\n",
        "# Я так понял, что наивный прогноз предполагает, что все предсказанные значения равны среднему\n",
        "y_pred_naive = np.full_like(y, y_mean)\n",
        "\n",
        "mse_naive = mse_error(y, y_pred_naive)\n",
        "print(f'Среднее значение продаж: {y_mean}') # Близко к нулю\n",
        "print(f'Значение MSE (наивный прогноз): {mse_naive:.3f}') # Близко к единице"
      ]
    },
    {
      "cell_type": "markdown",
      "metadata": {
        "id": "BbybL2ola_ZM"
      },
      "source": [
        "**Создайте функцию *lin_pred*, которая может по матрице предикторов *X* и вектору весов линейной модели *w* получить вектор прогнозов** (0.5 балла)"
      ]
    },
    {
      "cell_type": "markdown",
      "metadata": {},
      "source": [
        "Формула получения прогноза: $\\hat{y} = X * w$\n",
        "\n",
        "Где:\n",
        "\n",
        "- X — матрица предикторов (размерности m×n)\n",
        "- w — вектор весов (размерности n×1)\n",
        "\n",
        "- $\\hat{y}$ — вектор предсказаний (размерности m×1)"
      ]
    },
    {
      "cell_type": "code",
      "execution_count": 14,
      "metadata": {
        "id": "1Cyz-Luaa_ZO"
      },
      "outputs": [],
      "source": [
        "def lin_pred(X, w):\n",
        "    # Преобразуем w в двумерный массив (если нужно)\n",
        "    if w.ndim == 1:\n",
        "        w = w.reshape(-1, 1)\n",
        "\n",
        "    # Проверяем размерности перед умножением\n",
        "    if X.shape[1] != w.shape[0]:\n",
        "        raise ValueError(f\"Несовместимые размерности: X {X.shape}, w {w.shape}\")\n",
        "    \n",
        "    y_hat = X @ w\n",
        "    return y_hat"
      ]
    },
    {
      "cell_type": "markdown",
      "metadata": {
        "id": "BU4adBrya_Zm"
      },
      "source": [
        "**Создайте функцию *stoch_grad_step* для реализации шага стохастического градиентного спуска. (1.5 балла) \n",
        "Функция должна принимать на вход следующие аргументы:**\n",
        "* матрицу *X*\n",
        "* вектора *y* и *w*\n",
        "* число *train_ind* - индекс объекта обучающей выборки (строки матрицы *X*), по которому считается изменение весов\n",
        "* число *$\\eta$* (eta) - шаг градиентного спуска\n",
        "\n",
        "Результатом будет вектор обновленных весов"
      ]
    },
    {
      "cell_type": "markdown",
      "metadata": {
        "id": "dyLY-P02DUK5"
      },
      "source": [
        "Шаг для стохастического градиентного спуска выглядит следующим образом:"
      ]
    },
    {
      "cell_type": "markdown",
      "metadata": {
        "id": "ORsAyIKNDUK5"
      },
      "source": [
        "$$\\Large w_j \\leftarrow w_j - \\frac{2\\eta}{\\ell} \\sum_{i=1}^\\ell{{x_{ij}((w_0 + w_1x_{i1} + w_2x_{i2} +  w_3x_{i3}) - y_i)}}$$"
      ]
    },
    {
      "cell_type": "markdown",
      "metadata": {
        "id": "CQl2FrpuDUK6"
      },
      "source": [
        "Для того, чтобы написать функцию, нужно сделать следующее:\n",
        "    \n",
        "*  посчитать направление изменения: умножить объект обучающей выборки на 2 и на разницу между предсказанным значением и реальным, а потом поделить на количество элементов в выборке.\n",
        "* вернуть разницу между вектором весов и направлением изменения, умноженным на шаг градиентного спуска"
      ]
    },
    {
      "cell_type": "code",
      "execution_count": 15,
      "metadata": {
        "id": "YUhVQGsja_Zn"
      },
      "outputs": [],
      "source": [
        "# Выполняет один шаг стохастического градиентного спуска (SGD).\n",
        "def stoch_grad_step(X, y, w, train_ind=0, eta=0.01):\n",
        "    num_samples, _ = X.shape  # Разделяем на (число объектов, число признаков)\n",
        "    \n",
        "    # Выбираем один объект из X и соответствующее значение из y\n",
        "    x_sample = X[train_ind].reshape(1, -1) # Превращаем строку в 2D (1 x n)\n",
        "    y_sample = y[train_ind].reshape(1, 1) # Превращаем вектор\n",
        "\n",
        "    # Вычисляем предсказание для одного объекта\n",
        "    prediction = x_sample @ w\n",
        "\n",
        "    # Градиент для текущего объекта\n",
        "    gradient = (2 / num_samples) * x_sample.T @ (prediction - y_sample)\n",
        "\n",
        "    # Обновляем веса\n",
        "    w_new = w - eta * gradient\n",
        "\n",
        "    return w_new"
      ]
    },
    {
      "cell_type": "markdown",
      "metadata": {
        "id": "pXwIFd0Ma_Zx"
      },
      "source": [
        "**Создайте функцию *stochastic_gradient_descent*, для реализации стохастического градиентного спуска (2.5 балла)**\n",
        "\n",
        "**Функция принимает на вход следующие аргументы:**\n",
        "- Матрицу признаков X\n",
        "- Целевую переменнную\n",
        "- Изначальную точку (веса модели)\n",
        "- Параметр, определяющий темп обучения\n",
        "- Максимальное число итераций\n",
        "- Евклидово расстояние между векторами весов на соседних итерациях градиентного спуска,при котором алгоритм прекращает работу \n",
        "\n",
        "**На каждой итерации в вектор (список) должно записываться текущее значение среднеквадратичной ошибки. Функция должна возвращать вектор весов $w$, а также вектор (список) ошибок.**"
      ]
    },
    {
      "cell_type": "markdown",
      "metadata": {
        "id": "ZVeoNF1JDUK7"
      },
      "source": [
        "Алгоритм следующий:\n",
        "    \n",
        "* Инициализируйте расстояние между векторами весов на соседних итерациях большим числом (можно бесконечностью)\n",
        "* Создайте пустой список для фиксации ошибок\n",
        "* Создайте счетчик итераций\n",
        "* Реализуйте оcновной цикл обучения пока расстояние между векторами весов больше того, при котором надо прекратить работу (когда расстояния станут слишком маленькими - значит, мы застряли в одном месте) и количество итераций меньше максимально разрешенного: сгенерируйте случайный индекс, запишите текущую ошибку в вектор ошибок, запишите в переменную текущий шаг стохастического спуска с использованием функции, написанной ранее. Далее рассчитайте текущее расстояние между векторами весов и прибавьте к счетчику итераций 1.\n",
        "* Верните вектор весов и вектор ошибок"
      ]
    },
    {
      "cell_type": "code",
      "execution_count": 16,
      "metadata": {
        "id": "CD_xcFNfa_Zy"
      },
      "outputs": [],
      "source": [
        "# Функция стохастического градиентного спуска для линейной регрессии (SGD)\n",
        "def stochastic_gradient_descent(X, y, initial_weights, alpha=0.01, max_iter=1_000, tol=1e-6):\n",
        "    \"\"\"\n",
        "    Реализация стохастического градиентного спуска (SGD).\n",
        "    \n",
        "    Args:\n",
        "        X (ndarray): Матрица признаков (размер m x n)\n",
        "        y (ndarray): Вектор истинных значений (размер m x 1)\n",
        "        initial_weights (ndarray): Начальные веса (размер n x 1)\n",
        "        alpha (float): Шаг градиентного спуска\n",
        "        max_iter (int): Максимальное количество итераций\n",
        "        tol (float): Евклидово расстояние между векторами весов для остановки\n",
        "    \n",
        "    Returns:\n",
        "        tuple: (вектор весов, список значений функции потерь)\n",
        "    \"\"\"\n",
        "    distance = np.inf # Ставим расстояние между высами бесконечность\n",
        "    loss_history = []  # Список для хранения значений функции потерь (MSE)\n",
        "    ite = 0 # Счетчик итераций\n",
        "    num_samples, _ = X.shape # Разделяем на (число объектов, число признаков)\n",
        "    weights = initial_weights.copy() # Копируем начальные веса, чтобы не менять исходные данные\n",
        "    \n",
        "    while distance > tol and ite < max_iter:\n",
        "        # Генерируем случайный индекс объекта выборки\n",
        "        rnd_index = np.random.randint(0, num_samples)\n",
        "        \n",
        "        # Записываем текущее значение MSE\n",
        "        curr_prediction = X @ weights\n",
        "        \n",
        "        # Записываем текущую ошибку в вектор ошибок\n",
        "        mse = mse_error(y, curr_prediction)\n",
        "        loss_history.append(mse)\n",
        "        \n",
        "        # Сохраняем старое значение весов\n",
        "        weights_old = weights.copy()\n",
        "        \n",
        "        # Делаем шаг градиентного спуска (новое расстояние)\n",
        "        weights = stoch_grad_step(X, y, weights, train_ind=rnd_index, eta=alpha)\n",
        "        \n",
        "        # Вычисляем евклидово расстояние между новым и старым векторами весов\n",
        "        distance = sum((weights[i] - weights_old[i])**2 for i in range(len(weights)))**0.5 # ||w_new - w_old||\n",
        "        \n",
        "        # Увеличиваем счетчик на 1\n",
        "        ite += 1\n",
        "    \n",
        "    # Выводим результаты итерации\n",
        "    print(f'Алгоритм закончился на итерации № {ite}, ошибка MSE - {mse:.3f}\\n')\n",
        "    return weights, loss_history"
      ]
    },
    {
      "cell_type": "markdown",
      "metadata": {
        "id": "0OqHO1Rta_Z7"
      },
      "source": [
        " **Запустите $10^5$ итераций стохастического градиентного спуска. Укажите вектор начальных весов, состоящий из нулей. Можете поэкспериментировать с параметром, отвечающим за темп обучения.**"
      ]
    },
    {
      "cell_type": "markdown",
      "metadata": {
        "id": "N6fHHT6vDUK8"
      },
      "source": [
        "**Постройте график зависимости ошибки от номера итерации**"
      ]
    },
    {
      "cell_type": "code",
      "execution_count": 17,
      "metadata": {
        "id": "zsSfHDzLDUK9"
      },
      "outputs": [
        {
          "name": "stdout",
          "output_type": "stream",
          "text": [
            "Алгоритм закончился на итерации № 8661, ошибка MSE - 2.786\n",
            "\n"
          ]
        },
        {
          "data": {
            "image/png": "[encoded data removed]",
            "text/plain": [
              "<Figure size 1000x500 with 1 Axes>"
            ]
          },
          "metadata": {},
          "output_type": "display_data"
        }
      ],
      "source": [
        "# Начальный вектор весов (нулевой)\n",
        "w_init = np.zeros((X_scaled.shape[1], 1))\n",
        "\n",
        "final_weights_sgd, mse_history_sgd = stochastic_gradient_descent(X=X_scaled, \n",
        "                                                            y=y, \n",
        "                                                            initial_weights=w_init, \n",
        "                                                            alpha=0.1,\n",
        "                                                            max_iter=100_000, \n",
        "                                                            tol=1e-6)\n",
        "\n",
        "# Построение графика MSE от номера итерации\n",
        "plt.figure(figsize=(10, 5))\n",
        "plt.plot(range(len(mse_history_sgd)), mse_history_sgd, label=\"MSE\")\n",
        "plt.xlabel(\"Итерация\")\n",
        "plt.ylabel(\"Ошибка (MSE)\")\n",
        "plt.title(\"Зависимость ошибки от номера итерации\")\n",
        "plt.legend()\n",
        "plt.grid()\n",
        "plt.show()"
      ]
    },
    {
      "cell_type": "markdown",
      "metadata": {
        "id": "O-MVOcJ6a_aY"
      },
      "source": [
        "**Выведите вектор весов, к которому сошелся метод.**"
      ]
    },
    {
      "cell_type": "code",
      "execution_count": 18,
      "metadata": {
        "id": "MPjVkXe4DUK9"
      },
      "outputs": [
        {
          "name": "stdout",
          "output_type": "stream",
          "text": [
            "Финальные веса после 100_000 итераций:\n",
            "[[14.00779515]\n",
            " [ 0.        ]\n",
            " [ 3.90368608]\n",
            " [ 2.83843887]\n",
            " [-0.04546665]]\n"
          ]
        }
      ],
      "source": [
        "# Выводим итоговые веса\n",
        "print(\"Финальные веса после 100_000 итераций:\")\n",
        "print(final_weights_sgd)"
      ]
    },
    {
      "cell_type": "markdown",
      "metadata": {
        "id": "qabzMc3Qa_a5"
      },
      "source": [
        "**Выведите среднеквадратичную ошибку на последней итерации.**"
      ]
    },
    {
      "cell_type": "code",
      "execution_count": 19,
      "metadata": {
        "id": "7tPWleMIa_a7"
      },
      "outputs": [
        {
          "name": "stdout",
          "output_type": "stream",
          "text": [
            "Финальный MSE после 100_000 итераций:\n",
            "2.786\n"
          ]
        }
      ],
      "source": [
        "# Выводим финальный MSE\n",
        "print(\"Финальный MSE после 100_000 итераций:\")\n",
        "print(round(mse_history_sgd[-1], 3))"
      ]
    },
    {
      "cell_type": "markdown",
      "metadata": {},
      "source": [
        "# Сравнения моделей 'стохастического градиентного спуска' и 'координатного спуска'\n",
        "\n",
        "Метрики:\n",
        "- MSE (чем меньше, тем лучше)\n",
        "- MAE (чем меньше, тем лучше)"
      ]
    },
    {
      "cell_type": "code",
      "execution_count": 20,
      "metadata": {},
      "outputs": [
        {
          "name": "stdout",
          "output_type": "stream",
          "text": [
            "Оценка модели: Стохастический градиентный спуск (SGD)\n",
            "MSE (Среднеквадратичная ошибка): 2.7865\n",
            "MAE (Средняя абсолютная ошибка): 1.2513\n",
            "--------------------------------------------------\n",
            "Оценка модели: Координатный спуск\n",
            "MSE (Среднеквадратичная ошибка): 13.8675\n",
            "MAE (Средняя абсолютная ошибка): 3.0362\n",
            "--------------------------------------------------\n"
          ]
        }
      ],
      "source": [
        "# Функция для оценки модели по метрикам MSE и MAE\n",
        "def evaluate_model(y_true, y_pred, model_name):\n",
        "    mse = mean_squared_error(y_true, y_pred)\n",
        "    mae = mean_absolute_error(y_true, y_pred)\n",
        "    \n",
        "    print(f'Оценка модели: {model_name}')\n",
        "    print(f'MSE (Среднеквадратичная ошибка): {mse:.4f}')\n",
        "    print(f'MAE (Средняя абсолютная ошибка): {mae:.4f}')\n",
        "    print('-' * 50)\n",
        "    \n",
        "    return mse, mae\n",
        "\n",
        "# Подставляем веса после обучения координатного спуска:\n",
        "final_weights_coord = coord_final_weights\n",
        "\n",
        "# Получаем предсказания для обеих моделей:\n",
        "y_pred_sgd = lin_pred(X_scaled, final_weights_sgd)  # Предсказания стохастического градиентного спуска\n",
        "y_pred_coord = lin_pred(X_normalized, final_weights_coord)  # Предсказания координатного спуска\n",
        "\n",
        "# Оцениваем модели:\n",
        "mse_sgd, mae_sgd = evaluate_model(y, y_pred_sgd, \"Стохастический градиентный спуск (SGD)\")\n",
        "mse_coord, mae_coord = evaluate_model(y, y_pred_coord, \"Координатный спуск\")\n",
        "\n",
        "# Создаем таблицу сравнения\n",
        "comparison_df = pd.DataFrame({\n",
        "    \"Модель\": [\"Стохастический градиентный спуск (SGD)\", \"Координатный спуск\"],\n",
        "    \"MSE\": [mse_sgd, mse_coord],\n",
        "    \"MAE\": [mae_sgd, mae_coord]\n",
        "})"
      ]
    },
    {
      "cell_type": "markdown",
      "metadata": {},
      "source": [
        "# Финальный вывод:\n",
        "\n",
        "По моделям:\n",
        "\n",
        "1. Стохастический градиентный спуск (SGD) показал лучшие результаты. MSE и MAE ниже, что означает более точное предсказание. Это связано с тем, что SGD эффективно обновляет веса. Использование StandardScaler помогло улучшить сходимость.\n",
        "\n",
        "2. Координатный спуск работает хуже, так как MSE выше. L2-нормализация (Normalizer) могла исказить масштаб данных, что привело к более высоким ошибкам. Возможно, координатный спуск медленнее сходится и требует больше итераций.\n",
        "\n",
        "Для финального использования модель SGD лучший выбор, так как он дает меньшую ошибку и быстрее обучается, таким образом SGD в данной задаче является более точной и быстрой моделью."
      ]
    }
  ],
  "metadata": {
    "colab": {
      "collapsed_sections": [],
      "name": "Практика_Оптимизация.ipynb",
      "provenance": [],
      "toc_visible": true
    },
    "kernelspec": {
      "display_name": "Python 3",
      "language": "python",
      "name": "python3"
    },
    "language_info": {
      "codemirror_mode": {
        "name": "ipython",
        "version": 3
      },
      "file_extension": ".py",
      "mimetype": "text/x-python",
      "name": "python",
      "nbconvert_exporter": "python",
      "pygments_lexer": "ipython3",
      "version": "3.12.1"
    }
  },
  "nbformat": 4,
  "nbformat_minor": 0
}
